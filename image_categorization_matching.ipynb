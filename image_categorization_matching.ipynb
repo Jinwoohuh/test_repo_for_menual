{
 "cells": [
  {
   "cell_type": "code",
   "execution_count": 1,
   "metadata": {},
   "outputs": [
    {
     "data": {
      "text/plain": [
       "['c:\\\\workspace\\\\trajectory_matching',\n",
       " 'C:\\\\Program Files\\\\WindowsApps\\\\PythonSoftwareFoundation.Python.3.11_3.11.1520.0_x64__qbz5n2kfra8p0\\\\python311.zip',\n",
       " 'C:\\\\Program Files\\\\WindowsApps\\\\PythonSoftwareFoundation.Python.3.11_3.11.1520.0_x64__qbz5n2kfra8p0\\\\DLLs',\n",
       " 'C:\\\\Program Files\\\\WindowsApps\\\\PythonSoftwareFoundation.Python.3.11_3.11.1520.0_x64__qbz5n2kfra8p0\\\\Lib',\n",
       " 'C:\\\\Program Files\\\\WindowsApps\\\\PythonSoftwareFoundation.Python.3.11_3.11.1520.0_x64__qbz5n2kfra8p0',\n",
       " '',\n",
       " 'C:\\\\Users\\\\USER\\\\AppData\\\\Local\\\\Packages\\\\PythonSoftwareFoundation.Python.3.11_qbz5n2kfra8p0\\\\LocalCache\\\\local-packages\\\\Python311\\\\site-packages',\n",
       " 'C:\\\\Users\\\\USER\\\\AppData\\\\Local\\\\Packages\\\\PythonSoftwareFoundation.Python.3.11_qbz5n2kfra8p0\\\\LocalCache\\\\local-packages\\\\Python311\\\\site-packages\\\\win32',\n",
       " 'C:\\\\Users\\\\USER\\\\AppData\\\\Local\\\\Packages\\\\PythonSoftwareFoundation.Python.3.11_qbz5n2kfra8p0\\\\LocalCache\\\\local-packages\\\\Python311\\\\site-packages\\\\win32\\\\lib',\n",
       " 'C:\\\\Users\\\\USER\\\\AppData\\\\Local\\\\Packages\\\\PythonSoftwareFoundation.Python.3.11_qbz5n2kfra8p0\\\\LocalCache\\\\local-packages\\\\Python311\\\\site-packages\\\\Pythonwin',\n",
       " 'C:\\\\Program Files\\\\WindowsApps\\\\PythonSoftwareFoundation.Python.3.11_3.11.1520.0_x64__qbz5n2kfra8p0\\\\Lib\\\\site-packages']"
      ]
     },
     "execution_count": 1,
     "metadata": {},
     "output_type": "execute_result"
    }
   ],
   "source": [
    "import sys\n",
    "sys.path"
   ]
  },
  {
   "cell_type": "code",
   "execution_count": 3,
   "metadata": {},
   "outputs": [],
   "source": [
    "sys.path.append(\"c:/users/userappdata/local/programs/python/python311/lib/site-packages\")"
   ]
  },
  {
   "cell_type": "code",
   "execution_count": 4,
   "metadata": {},
   "outputs": [
    {
     "ename": "ModuleNotFoundError",
     "evalue": "No module named 'pandas'",
     "output_type": "error",
     "traceback": [
      "\u001b[1;31m---------------------------------------------------------------------------\u001b[0m",
      "\u001b[1;31mModuleNotFoundError\u001b[0m                       Traceback (most recent call last)",
      "Cell \u001b[1;32mIn[4], line 3\u001b[0m\n\u001b[0;32m      1\u001b[0m \u001b[39m# image import package\u001b[39;00m\n\u001b[0;32m      2\u001b[0m \u001b[39mimport\u001b[39;00m \u001b[39mglob\u001b[39;00m\n\u001b[1;32m----> 3\u001b[0m \u001b[39mimport\u001b[39;00m \u001b[39mpandas\u001b[39;00m \u001b[39mas\u001b[39;00m \u001b[39mpd\u001b[39;00m\n\u001b[0;32m      4\u001b[0m \u001b[39mimport\u001b[39;00m \u001b[39mtime\u001b[39;00m\n\u001b[0;32m      5\u001b[0m \u001b[39mimport\u001b[39;00m \u001b[39mrandom\u001b[39;00m\n",
      "\u001b[1;31mModuleNotFoundError\u001b[0m: No module named 'pandas'"
     ]
    }
   ],
   "source": [
    "# image import package\n",
    "import glob\n",
    "import pandas as pd\n",
    "import time\n",
    "import random\n"
   ]
  },
  {
   "cell_type": "code",
   "execution_count": 5,
   "metadata": {},
   "outputs": [
    {
     "ename": "NameError",
     "evalue": "name 'pd' is not defined",
     "output_type": "error",
     "traceback": [
      "\u001b[1;31m---------------------------------------------------------------------------\u001b[0m",
      "\u001b[1;31mNameError\u001b[0m                                 Traceback (most recent call last)",
      "Cell \u001b[1;32mIn[5], line 4\u001b[0m\n\u001b[0;32m      2\u001b[0m n_search \u001b[39m=\u001b[39m \u001b[39m1\u001b[39m\n\u001b[0;32m      3\u001b[0m \u001b[39m# 1회 서칭시 나오는결과를 저장할 Dataframe 선언\u001b[39;00m\n\u001b[1;32m----> 4\u001b[0m searching_result \u001b[39m=\u001b[39m pd\u001b[39m.\u001b[39mDataFrame([{\u001b[39m'\u001b[39m\u001b[39mn_search\u001b[39m\u001b[39m'\u001b[39m: \u001b[39m0\u001b[39m, \u001b[39m'\u001b[39m\u001b[39msearching_time\u001b[39m\u001b[39m'\u001b[39m: \u001b[39m0\u001b[39m, \u001b[39m'\u001b[39m\u001b[39mimage_loc\u001b[39m\u001b[39m'\u001b[39m:\u001b[39m0\u001b[39m, \u001b[39m'\u001b[39m\u001b[39msimilarity\u001b[39m\u001b[39m'\u001b[39m : \u001b[39m0\u001b[39m}])\n\u001b[0;32m      6\u001b[0m search_folder_path \u001b[39m=\u001b[39m \u001b[39m\"\u001b[39m\u001b[39mC:/Users/IDeAOcean LT1/Documents/Python_database/image_post_processed_224\u001b[39m\u001b[39m\"\u001b[39m\n\u001b[0;32m      8\u001b[0m \u001b[39mfor\u001b[39;00m i \u001b[39min\u001b[39;00m image_index:\n",
      "\u001b[1;31mNameError\u001b[0m: name 'pd' is not defined"
     ]
    }
   ],
   "source": [
    "\n",
    "image_index = range(1,10000)\n",
    "n_search = 1\n",
    "# 1회 서칭시 나오는결과를 저장할 Dataframe 선언\n",
    "searching_result = pd.DataFrame([{'n_search': 0, 'searching_time': 0, 'image_loc':0, 'similarity' : 0}])\n",
    "\n",
    "search_folder_path = \"C:/Users/IDeAOcean LT1/Documents/Python_database/image_post_processed_224\"\n",
    "\n",
    "for i in image_index:\n",
    "    print(\"No_\"+str(i)+\".jpg\")\n",
    "    #탐색대상 image path 선정\n",
    "    current_image_path = \"C:/Users/IDeAOcean LT1/Documents/Python_database/image_post_processed/No_\"+str(i)+\".jpg\"\n",
    "        \n",
    "    #탐색 시작(탐색시간 측정)\n",
    "    start = time.time()\n",
    "    s_img = image.load_img(file)\n",
    "    arr_s_img = image.img_to_array(search_image)\n",
    "    end = time.time()\n",
    "    "
   ]
  },
  {
   "cell_type": "code",
   "execution_count": null,
   "metadata": {},
   "outputs": [],
   "source": []
  }
 ],
 "metadata": {
  "kernelspec": {
   "display_name": "Python 3",
   "language": "python",
   "name": "python3"
  },
  "language_info": {
   "codemirror_mode": {
    "name": "ipython",
    "version": 3
   },
   "file_extension": ".py",
   "mimetype": "text/x-python",
   "name": "python",
   "nbconvert_exporter": "python",
   "pygments_lexer": "ipython3",
   "version": "3.11.5"
  },
  "orig_nbformat": 4
 },
 "nbformat": 4,
 "nbformat_minor": 2
}
